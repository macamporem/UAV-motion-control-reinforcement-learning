{
 "cells": [
  {
   "cell_type": "markdown",
   "metadata": {},
   "source": [
    "**Chapter 16 – Reinforcement Learning**"
   ]
  },
  {
   "cell_type": "markdown",
   "metadata": {},
   "source": [
    "This notebook contains all the sample code and solutions to the exercices in chapter 16."
   ]
  },
  {
   "cell_type": "markdown",
   "metadata": {},
   "source": [
    "# Setup"
   ]
  },
  {
   "cell_type": "markdown",
   "metadata": {},
   "source": [
    "First, let's make sure this notebook works well in both python 2 and 3, import a few common modules, ensure MatplotLib plots figures inline and prepare a function to save the figures:"
   ]
  },
  {
   "cell_type": "code",
   "execution_count": 1,
   "metadata": {},
   "outputs": [],
   "source": [
    "# To support both python 2 and python 3\n",
    "from __future__ import division, print_function, unicode_literals\n",
    "\n",
    "# Common imports\n",
    "import numpy as np\n",
    "import os\n",
    "import sys\n",
    "import pandas as pd\n",
    "import time\n",
    "\n",
    "# to make this notebook's output stable across runs\n",
    "def reset_graph(seed=42):\n",
    "    tf.reset_default_graph()\n",
    "    tf.set_random_seed(seed)\n",
    "    np.random.seed(seed)\n",
    "\n",
    "# To plot pretty figures and animations\n",
    "%matplotlib nbagg\n",
    "import matplotlib\n",
    "import matplotlib.animation as animation\n",
    "import matplotlib.pyplot as plt\n",
    "plt.rcParams['axes.labelsize'] = 14\n",
    "plt.rcParams['xtick.labelsize'] = 12\n",
    "plt.rcParams['ytick.labelsize'] = 12\n",
    "\n",
    "# Where to save the figures\n",
    "PROJECT_ROOT_DIR = \".\"\n",
    "CHAPTER_ID = \"rl\"\n",
    "\n",
    "def save_fig(fig_id, tight_layout=True):\n",
    "    path = os.path.join(PROJECT_ROOT_DIR, \"images\", CHAPTER_ID, fig_id + \".png\")\n",
    "    print(\"Saving figure\", fig_id)\n",
    "    if tight_layout:\n",
    "        plt.tight_layout()\n",
    "    plt.savefig(path, format='png', dpi=300)"
   ]
  },
  {
   "cell_type": "markdown",
   "metadata": {},
   "source": [
    "Note: there may be minor differences between the output of this notebook and the examples shown in the book. You can safely ignore these differences. They are mainly due to the fact that most of the environments provided by OpenAI gym have some randomness."
   ]
  },
  {
   "cell_type": "markdown",
   "metadata": {},
   "source": [
    "# Introduction to OpenAI gym"
   ]
  },
  {
   "cell_type": "markdown",
   "metadata": {},
   "source": [
    "In this notebook we will be using [OpenAI gym](https://gym.openai.com/), a great toolkit for developing and comparing Reinforcement Learning algorithms. It provides many environments for your learning *agents* to interact with. Let's start by importing `gym`:"
   ]
  },
  {
   "cell_type": "code",
   "execution_count": 2,
   "metadata": {},
   "outputs": [],
   "source": [
    "import gym"
   ]
  },
  {
   "cell_type": "markdown",
   "metadata": {},
   "source": [
    "Next we will load the MsPacman environment, version 0."
   ]
  },
  {
   "cell_type": "code",
   "execution_count": null,
   "metadata": {},
   "outputs": [],
   "source": []
  },
  {
   "cell_type": "markdown",
   "metadata": {},
   "source": [
    "Let's initialize the environment by calling is `reset()` method. This returns an observation:"
   ]
  },
  {
   "cell_type": "code",
   "execution_count": null,
   "metadata": {},
   "outputs": [],
   "source": []
  },
  {
   "cell_type": "markdown",
   "metadata": {},
   "source": [
    "Observations vary depending on the environment. In this case it is an RGB image represented as a 3D NumPy array of shape [width, height, channels] (with 3 channels: Red, Green and Blue). In other environments it may return different objects, as we will see later."
   ]
  },
  {
   "cell_type": "code",
   "execution_count": null,
   "metadata": {},
   "outputs": [],
   "source": []
  },
  {
   "cell_type": "markdown",
   "metadata": {},
   "source": [
    "An environment can be visualized by calling its `render()` method, and you can pick the rendering mode (the rendering options depend on the environment). In this example we will set `mode=\"rgb_array\"` to get an image of the environment as a NumPy array:"
   ]
  },
  {
   "cell_type": "code",
   "execution_count": null,
   "metadata": {},
   "outputs": [],
   "source": []
  },
  {
   "cell_type": "markdown",
   "metadata": {},
   "source": [
    "Let's plot this image:"
   ]
  },
  {
   "cell_type": "code",
   "execution_count": null,
   "metadata": {
    "scrolled": true
   },
   "outputs": [],
   "source": []
  },
  {
   "cell_type": "markdown",
   "metadata": {},
   "source": [
    "Welcome back to the 1980s! :)"
   ]
  },
  {
   "cell_type": "markdown",
   "metadata": {},
   "source": [
    "In this environment, the rendered image is simply equal to the observation (but in many environments this is not the case):"
   ]
  },
  {
   "cell_type": "code",
   "execution_count": null,
   "metadata": {},
   "outputs": [],
   "source": []
  },
  {
   "cell_type": "markdown",
   "metadata": {},
   "source": [
    "Let's create a little helper function to plot an environment:"
   ]
  },
  {
   "cell_type": "code",
   "execution_count": 3,
   "metadata": {},
   "outputs": [],
   "source": [
    "def plot_environment(env, figsize=(5,4)):\n",
    "    plt.close()  # or else nbagg sometimes plots in the previous cell\n",
    "    plt.figure(figsize=figsize)\n",
    "    img = env.render(mode=\"rgb_array\")\n",
    "    plt.imshow(img)\n",
    "    plt.axis(\"off\")\n",
    "    plt.show()"
   ]
  },
  {
   "cell_type": "markdown",
   "metadata": {},
   "source": [
    "Let's see how to interact with an environment. Your agent will need to select an action from an \"action space\" (the set of possible actions). Let's see what this environment's action space looks like:"
   ]
  },
  {
   "cell_type": "code",
   "execution_count": null,
   "metadata": {},
   "outputs": [],
   "source": []
  },
  {
   "cell_type": "markdown",
   "metadata": {},
   "source": [
    "`Discrete(9)` means that the possible actions are integers 0 through 8, which represents the 9 possible positions of the joystick (0=center, 1=up, 2=right, 3=left, 4=down, 5=upper-right, 6=upper-left, 7=lower-right, 8=lower-left)."
   ]
  },
  {
   "cell_type": "markdown",
   "metadata": {},
   "source": [
    "Next we need to tell the environment which action to play, and it will compute the next step of the game. Let's go left for 110 steps, then lower left for 40 steps:"
   ]
  },
  {
   "cell_type": "code",
   "execution_count": null,
   "metadata": {},
   "outputs": [],
   "source": []
  },
  {
   "cell_type": "markdown",
   "metadata": {},
   "source": [
    "Where are we now?"
   ]
  },
  {
   "cell_type": "code",
   "execution_count": null,
   "metadata": {},
   "outputs": [],
   "source": []
  },
  {
   "cell_type": "markdown",
   "metadata": {},
   "source": [
    "The `step()` function actually returns several important objects:"
   ]
  },
  {
   "cell_type": "code",
   "execution_count": null,
   "metadata": {},
   "outputs": [],
   "source": []
  },
  {
   "cell_type": "markdown",
   "metadata": {},
   "source": [
    "The observation tells the agent what the environment looks like, as discussed earlier. This is a 210x160 RGB image:"
   ]
  },
  {
   "cell_type": "code",
   "execution_count": null,
   "metadata": {},
   "outputs": [],
   "source": []
  },
  {
   "cell_type": "markdown",
   "metadata": {},
   "source": [
    "The environment also tells the agent how much reward it got during the last step:"
   ]
  },
  {
   "cell_type": "code",
   "execution_count": null,
   "metadata": {},
   "outputs": [],
   "source": []
  },
  {
   "cell_type": "markdown",
   "metadata": {},
   "source": [
    "When the game is over, the environment returns `done=True`:"
   ]
  },
  {
   "cell_type": "code",
   "execution_count": null,
   "metadata": {},
   "outputs": [],
   "source": []
  },
  {
   "cell_type": "markdown",
   "metadata": {},
   "source": [
    "Finally, `info` is an environment-specific dictionary that can provide some extra information about the internal state of the environment. This is useful for debugging, but your agent should not use this information for learning (it would be cheating)."
   ]
  },
  {
   "cell_type": "code",
   "execution_count": null,
   "metadata": {},
   "outputs": [],
   "source": []
  },
  {
   "cell_type": "markdown",
   "metadata": {},
   "source": [
    "Let's play one full game (with 3 lives), by moving in random directions for 10 steps at a time, recording each frame:"
   ]
  },
  {
   "cell_type": "code",
   "execution_count": null,
   "metadata": {},
   "outputs": [],
   "source": []
  },
  {
   "cell_type": "markdown",
   "metadata": {},
   "source": [
    "Now show the animation (it's a bit jittery within Jupyter):"
   ]
  },
  {
   "cell_type": "code",
   "execution_count": 4,
   "metadata": {},
   "outputs": [],
   "source": [
    "def update_scene(num, frames, patch):\n",
    "    patch.set_data(frames[num])\n",
    "    return patch,\n",
    "\n",
    "def plot_animation(frames, repeat=False, interval=40):\n",
    "    plt.close()  # or else nbagg sometimes plots in the previous cell\n",
    "    fig = plt.figure()\n",
    "    patch = plt.imshow(frames[0])\n",
    "    plt.axis('off')\n",
    "    return animation.FuncAnimation(fig, update_scene, fargs=(frames, patch), frames=len(frames), repeat=repeat, interval=interval)"
   ]
  },
  {
   "cell_type": "code",
   "execution_count": null,
   "metadata": {},
   "outputs": [],
   "source": []
  },
  {
   "cell_type": "markdown",
   "metadata": {},
   "source": [
    "Once you have finished playing with an environment, you should close it to free up resources:"
   ]
  },
  {
   "cell_type": "code",
   "execution_count": null,
   "metadata": {},
   "outputs": [],
   "source": []
  },
  {
   "cell_type": "markdown",
   "metadata": {},
   "source": [
    "To code our first learning agent, we will be using a simpler environment: the Cart-Pole. "
   ]
  },
  {
   "cell_type": "markdown",
   "metadata": {},
   "source": [
    "# A simple environment: the Cart-Pole"
   ]
  },
  {
   "cell_type": "markdown",
   "metadata": {},
   "source": [
    "The Cart-Pole is a very simple environment composed of a cart that can move left or right, and pole placed vertically on top of it. The agent must move the cart left or right to keep the pole upright."
   ]
  },
  {
   "cell_type": "code",
   "execution_count": null,
   "metadata": {},
   "outputs": [],
   "source": []
  },
  {
   "cell_type": "code",
   "execution_count": null,
   "metadata": {},
   "outputs": [],
   "source": []
  },
  {
   "cell_type": "code",
   "execution_count": null,
   "metadata": {},
   "outputs": [],
   "source": []
  },
  {
   "cell_type": "markdown",
   "metadata": {},
   "source": [
    "The observation is a 1D NumPy array composed of 4 floats: they represent the cart's horizontal position, its velocity, the angle of the pole (0 = vertical), and the angular velocity. Let's render the environment... unfortunately we need to fix an annoying rendering issue first."
   ]
  },
  {
   "cell_type": "markdown",
   "metadata": {},
   "source": [
    "## Fixing the rendering issue"
   ]
  },
  {
   "cell_type": "markdown",
   "metadata": {},
   "source": [
    "Some environments (including the Cart-Pole) require access to your display, which opens up a separate window, even if you specify the `rgb_array` mode. In general you can safely ignore that window. However, if Jupyter is running on a headless server (ie. without a screen) it will raise an exception. One way to avoid this is to install a fake X server like Xvfb. You can start Jupyter using the `xvfb-run` command:\n",
    "\n",
    "    $ xvfb-run -s \"-screen 0 1400x900x24\" jupyter notebook\n",
    "\n",
    "If Jupyter is running on a headless server but you don't want to worry about Xvfb, then you can just use the following rendering function for the Cart-Pole:"
   ]
  },
  {
   "cell_type": "code",
   "execution_count": 5,
   "metadata": {},
   "outputs": [],
   "source": [
    "from PIL import Image, ImageDraw\n",
    "\n",
    "try:\n",
    "    from pyglet.gl import gl_info\n",
    "    openai_cart_pole_rendering = True   # no problem, let's use OpenAI gym's rendering function\n",
    "except Exception:\n",
    "    openai_cart_pole_rendering = False  # probably no X server available, let's use our own rendering function\n",
    "\n",
    "def render_cart_pole(env, obs):\n",
    "    if openai_cart_pole_rendering:\n",
    "        # use OpenAI gym's rendering function\n",
    "        return env.render(mode=\"rgb_array\")\n",
    "    else:\n",
    "        # rendering for the cart pole environment (in case OpenAI gym can't do it)\n",
    "        img_w = 600\n",
    "        img_h = 400\n",
    "        cart_w = img_w // 12\n",
    "        cart_h = img_h // 15\n",
    "        pole_len = img_h // 3.5\n",
    "        pole_w = img_w // 80 + 1\n",
    "        x_width = 2\n",
    "        max_ang = 0.2\n",
    "        bg_col = (255, 255, 255)\n",
    "        cart_col = 0x000000 # Blue Green Red\n",
    "        pole_col = 0x669acc # Blue Green Red\n",
    "\n",
    "        pos, vel, ang, ang_vel = obs\n",
    "        img = Image.new('RGB', (img_w, img_h), bg_col)\n",
    "        draw = ImageDraw.Draw(img)\n",
    "        cart_x = pos * img_w // x_width + img_w // x_width\n",
    "        cart_y = img_h * 95 // 100\n",
    "        top_pole_x = cart_x + pole_len * np.sin(ang)\n",
    "        top_pole_y = cart_y - cart_h // 2 - pole_len * np.cos(ang)\n",
    "        draw.line((0, cart_y, img_w, cart_y), fill=0)\n",
    "        draw.rectangle((cart_x - cart_w // 2, cart_y - cart_h // 2, cart_x + cart_w // 2, cart_y + cart_h // 2), fill=cart_col) # draw cart\n",
    "        draw.line((cart_x, cart_y - cart_h // 2, top_pole_x, top_pole_y), fill=pole_col, width=pole_w) # draw pole\n",
    "        return np.array(img)\n",
    "\n",
    "def plot_cart_pole(env, obs):\n",
    "    plt.close()  # or else nbagg sometimes plots in the previous cell\n",
    "    img = render_cart_pole(env, obs)\n",
    "    plt.imshow(img)\n",
    "    plt.axis(\"off\")\n",
    "    plt.show()"
   ]
  },
  {
   "cell_type": "code",
   "execution_count": null,
   "metadata": {},
   "outputs": [],
   "source": []
  },
  {
   "cell_type": "markdown",
   "metadata": {},
   "source": [
    "Now let's look at the action space:"
   ]
  },
  {
   "cell_type": "code",
   "execution_count": null,
   "metadata": {},
   "outputs": [],
   "source": []
  },
  {
   "cell_type": "markdown",
   "metadata": {},
   "source": [
    "Yep, just two possible actions: accelerate towards the left or towards the right. Let's push the cart left until the pole falls:"
   ]
  },
  {
   "cell_type": "code",
   "execution_count": null,
   "metadata": {},
   "outputs": [],
   "source": []
  },
  {
   "cell_type": "code",
   "execution_count": null,
   "metadata": {},
   "outputs": [],
   "source": []
  },
  {
   "cell_type": "code",
   "execution_count": null,
   "metadata": {},
   "outputs": [],
   "source": []
  },
  {
   "cell_type": "markdown",
   "metadata": {},
   "source": [
    "Notice that the game is over when the pole tilts too much, not when it actually falls. Now let's reset the environment and push the cart to right instead:"
   ]
  },
  {
   "cell_type": "code",
   "execution_count": null,
   "metadata": {},
   "outputs": [],
   "source": []
  },
  {
   "cell_type": "code",
   "execution_count": null,
   "metadata": {},
   "outputs": [],
   "source": []
  },
  {
   "cell_type": "markdown",
   "metadata": {},
   "source": [
    "Looks like it's doing what we're telling it to do. Now how can we make the poll remain upright? We will need to define a _policy_ for that. This is the strategy that the agent will use to select an action at each step. It can use all the past actions and observations to decide what to do."
   ]
  },
  {
   "cell_type": "markdown",
   "metadata": {},
   "source": [
    "# A simple hard-coded policy"
   ]
  },
  {
   "cell_type": "markdown",
   "metadata": {},
   "source": [
    "Let's hard code a simple strategy: if the pole is tilting to the left, then push the cart to the left, and _vice versa_. Let's see if that works:"
   ]
  },
  {
   "cell_type": "code",
   "execution_count": null,
   "metadata": {},
   "outputs": [],
   "source": []
  },
  {
   "cell_type": "code",
   "execution_count": null,
   "metadata": {},
   "outputs": [],
   "source": []
  },
  {
   "cell_type": "markdown",
   "metadata": {},
   "source": [
    "Nope, the system is unstable and after just a few wobbles, the pole ends up too tilted: game over. We will need to be smarter than that!"
   ]
  },
  {
   "cell_type": "markdown",
   "metadata": {},
   "source": [
    "# Neural Network Policies"
   ]
  },
  {
   "cell_type": "markdown",
   "metadata": {},
   "source": [
    "Let's create a neural network that will take observations as inputs, and output the action to take for each observation. To choose an action, the network will first estimate a probability for each action, then select an action randomly according to the estimated probabilities. In the case of the Cart-Pole environment, there are just two possible actions (left or right), so we only need one output neuron: it will output the probability `p` of the action 0 (left), and of course the probability of action 1 (right) will be `1 - p`."
   ]
  },
  {
   "cell_type": "markdown",
   "metadata": {},
   "source": [
    "Note: instead of using the `fully_connected()` function from the `tensorflow.contrib.layers` module (as in the book), we now use the `dense()` function from the `tf.layers` module, which did not exist when this chapter was written. This is preferable because anything in contrib may change or be deleted without notice, while `tf.layers` is part of the official API. As you will see, the code is mostly the same.\n",
    "\n",
    "The main differences relevant to this chapter are:\n",
    "* the `_fn` suffix was removed in all the parameters that had it (for example the `activation_fn` parameter was renamed to `activation`).\n",
    "* the `weights` parameter was renamed to `kernel`,\n",
    "* the default activation is `None` instead of `tf.nn.relu`"
   ]
  },
  {
   "cell_type": "code",
   "execution_count": null,
   "metadata": {},
   "outputs": [],
   "source": []
  },
  {
   "cell_type": "markdown",
   "metadata": {},
   "source": [
    "In this particular environment, the past actions and observations can safely be ignored, since each observation contains the environment's full state. If there were some hidden state then you may need to consider past actions and observations in order to try to infer the hidden state of the environment. For example, if the environment only revealed the position of the cart but not its velocity, you would have to consider not only the current observation but also the previous observation in order to estimate the current velocity. Another example is if the observations are noisy: you may want to use the past few observations to estimate the most likely current state. Our problem is thus as simple as can be: the current observation is noise-free and contains the environment's full state."
   ]
  },
  {
   "cell_type": "markdown",
   "metadata": {},
   "source": [
    "You may wonder why we are picking a random action based on the probability given by the policy network, rather than just picking the action with the highest probability. This approach lets the agent find the right balance between _exploring_ new actions and _exploiting_ the actions that are known to work well. Here's an analogy: suppose you go to a restaurant for the first time, and all the dishes look equally appealing so you randomly pick one. If it turns out to be good, you can increase the probability to order it next time, but you shouldn't increase that probability to 100%, or else you will never try out the other dishes, some of which may be even better than the one you tried."
   ]
  },
  {
   "cell_type": "markdown",
   "metadata": {},
   "source": [
    "Let's randomly initialize this policy neural network and use it to play one game:"
   ]
  },
  {
   "cell_type": "code",
   "execution_count": null,
   "metadata": {},
   "outputs": [],
   "source": []
  },
  {
   "cell_type": "markdown",
   "metadata": {},
   "source": [
    "Now let's look at how well this randomly initialized policy network performed:"
   ]
  },
  {
   "cell_type": "code",
   "execution_count": null,
   "metadata": {},
   "outputs": [],
   "source": []
  },
  {
   "cell_type": "markdown",
   "metadata": {},
   "source": [
    "Yeah... pretty bad. The neural network will have to learn to do better. First let's see if it is capable of learning the basic policy we used earlier: go left if the pole is tilting left, and go right if it is tilting right. The following code defines the same neural network but we add the target probabilities `y`, and the training operations (`cross_entropy`,  `optimizer` and `training_op`):"
   ]
  },
  {
   "cell_type": "code",
   "execution_count": null,
   "metadata": {},
   "outputs": [],
   "source": []
  },
  {
   "cell_type": "markdown",
   "metadata": {},
   "source": [
    "We can make the same net play in 10 different environments in parallel, and train for 1000 iterations. We also reset environments when they are done."
   ]
  },
  {
   "cell_type": "code",
   "execution_count": null,
   "metadata": {},
   "outputs": [],
   "source": []
  },
  {
   "cell_type": "code",
   "execution_count": 6,
   "metadata": {},
   "outputs": [],
   "source": [
    "def render_policy_net(model_path, action, X, n_max_steps = 1000):\n",
    "    frames = []\n",
    "    env = gym.make(\"CartPole-v0\")\n",
    "    obs = env.reset()\n",
    "    with tf.Session() as sess:\n",
    "        saver.restore(sess, model_path)\n",
    "        for step in range(n_max_steps):\n",
    "            img = render_cart_pole(env, obs)\n",
    "            frames.append(img)\n",
    "            action_val = action.eval(feed_dict={X: obs.reshape(1, n_inputs)})\n",
    "            obs, reward, done, info = env.step(action_val[0][0])\n",
    "            if done:\n",
    "                break\n",
    "    env.close()\n",
    "    return frames        "
   ]
  },
  {
   "cell_type": "code",
   "execution_count": null,
   "metadata": {},
   "outputs": [],
   "source": []
  },
  {
   "cell_type": "code",
   "execution_count": 7,
   "metadata": {},
   "outputs": [],
   "source": [
    "!rm FCND-Controls-CPP-reinforcement-learning/config/log/*\n",
    "controller_log = 'FCND-Controls-CPP-reinforcement-learning/config/log/'\n",
    "np.savetxt(controller_log+'rl-commanded-rotor-speeds.txt', \n",
    "           np.reshape([1.5,1.25,1.25,1.5],[1,4]\n",
    "                     ), delimiter=\",\")\n"
   ]
  },
  {
   "cell_type": "markdown",
   "metadata": {},
   "source": [
    "Looks like it learned the policy correctly. Now let's see if it can learn a better policy on its own."
   ]
  },
  {
   "cell_type": "markdown",
   "metadata": {},
   "source": [
    "# Policy Gradients"
   ]
  },
  {
   "cell_type": "markdown",
   "metadata": {},
   "source": [
    "To train this neural network we will need to define the target probabilities `y`. If an action is good we should increase its probability, and conversely if it is bad we should reduce it. But how do we know whether an action is good or bad? The problem is that most actions have delayed effects, so when you win or lose points in a game, it is not clear which actions contributed to this result: was it just the last action? Or the last 10? Or just one action 50 steps earlier? This is called the _credit assignment problem_.\n",
    "\n",
    "The _Policy Gradients_ algorithm tackles this problem by first playing multiple games, then making the actions in good games slightly more likely, while actions in bad games are made slightly less likely. First we play, then we go back and think about what we did."
   ]
  },
  {
   "cell_type": "code",
   "execution_count": 8,
   "metadata": {},
   "outputs": [],
   "source": [
    "import tensorflow as tf\n",
    "\n",
    "reset_graph()\n",
    "\n",
    "n_inputs = 6#4\n",
    "n_hidden = 6#4\n",
    "n_outputs = 8#1 (neutral, 2xroll,2xpitch,2xyaw, no-thrust)\n",
    "\n",
    "learning_rate = 0.01\n",
    "\n",
    "initializer = tf.contrib.layers.variance_scaling_initializer()\n",
    "\n",
    "X = tf.placeholder(tf.float32, shape=[None, n_inputs])\n",
    "\n",
    "hidden_ = tf.layers.dense(X      , n_hidden, activation=tf.nn.elu, kernel_initializer=initializer)\n",
    "hidden  = tf.layers.dense(hidden_, n_hidden, activation=tf.nn.elu, kernel_initializer=initializer)\n",
    "logits  = tf.layers.dense(hidden , n_outputs)\n",
    "\n",
    "outputs = tf.nn.sigmoid(logits)  # probability of action 0 (left)\n",
    "#p_left_and_right = tf.concat(axis=1, values=[outputs, 1 - outputs])\n",
    "#action = tf.multinomial(tf.log(p_left_and_right), num_samples=1)\n",
    "action = tf.multinomial(\n",
    "            outputs/tf.reduce_sum(outputs), \n",
    "            num_samples=1)\n",
    "#y = 1. - tf.to_float(action)\n",
    "y = tf.squeeze(tf.one_hot(action,n_outputs))\n",
    "\n",
    "cross_entropy = tf.nn.sigmoid_cross_entropy_with_logits(labels=y, logits=logits)\n",
    "optimizer = tf.train.AdamOptimizer(learning_rate)\n",
    "grads_and_vars = optimizer.compute_gradients(cross_entropy)\n",
    "gradients = [grad for grad, variable in grads_and_vars]\n",
    "gradient_placeholders = []\n",
    "grads_and_vars_feed = []\n",
    "for grad, variable in grads_and_vars:\n",
    "    gradient_placeholder = tf.placeholder(tf.float32, shape=grad.get_shape())\n",
    "    gradient_placeholders.append(gradient_placeholder)\n",
    "    grads_and_vars_feed.append((gradient_placeholder, variable))\n",
    "training_op = optimizer.apply_gradients(grads_and_vars_feed)\n",
    "\n",
    "init = tf.global_variables_initializer()\n",
    "saver = tf.train.Saver()"
   ]
  },
  {
   "cell_type": "code",
   "execution_count": 9,
   "metadata": {},
   "outputs": [],
   "source": [
    "def discount_rewards(rewards, discount_rate):\n",
    "    discounted_rewards = np.zeros(len(rewards))\n",
    "    cumulative_rewards = 0\n",
    "    for step in reversed(range(len(rewards))):\n",
    "        cumulative_rewards = rewards[step] + cumulative_rewards * discount_rate\n",
    "        discounted_rewards[step] = cumulative_rewards\n",
    "    return discounted_rewards\n",
    "\n",
    "def discount_and_normalize_rewards(all_rewards, discount_rate):\n",
    "    all_discounted_rewards = [discount_rewards(rewards, discount_rate) for rewards in all_rewards]\n",
    "    flat_rewards = np.concatenate(all_discounted_rewards)\n",
    "    reward_mean = flat_rewards.mean()\n",
    "    reward_std = flat_rewards.std()\n",
    "    return [(discounted_rewards - reward_mean)/reward_std for discounted_rewards in all_discounted_rewards]"
   ]
  },
  {
   "cell_type": "code",
   "execution_count": null,
   "metadata": {},
   "outputs": [],
   "source": []
  },
  {
   "cell_type": "code",
   "execution_count": null,
   "metadata": {},
   "outputs": [],
   "source": []
  },
  {
   "cell_type": "code",
   "execution_count": null,
   "metadata": {},
   "outputs": [],
   "source": []
  },
  {
   "cell_type": "code",
   "execution_count": null,
   "metadata": {},
   "outputs": [],
   "source": []
  },
  {
   "cell_type": "code",
   "execution_count": null,
   "metadata": {},
   "outputs": [],
   "source": []
  },
  {
   "cell_type": "code",
   "execution_count": null,
   "metadata": {},
   "outputs": [],
   "source": []
  },
  {
   "cell_type": "code",
   "execution_count": null,
   "metadata": {},
   "outputs": [],
   "source": []
  },
  {
   "cell_type": "code",
   "execution_count": 10,
   "metadata": {},
   "outputs": [],
   "source": [
    "def quad(controller_log):\n",
    "    #Roll,Pitch\n",
    "    try:\n",
    "        df1 = pd.read_csv(controller_log+'rl-RollPitchControlState.txt')\n",
    "    except:\n",
    "        df1 = pd.read_csv(controller_log+'rl-RollPitchControlState-last.txt')\n",
    "    if df1.shape[0]>=1:\n",
    "        df1.to_csv(controller_log+'rl-RollPitchControlState-last.txt')\n",
    "        df1 = df1.iloc[0,:]\n",
    "    else:\n",
    "        df1 = pd.read_csv(controller_log+'rl-RollPitchControlState-last.txt')\n",
    "        df1 = df1.iloc[0,:]\n",
    "        \n",
    "    #Lateral position\n",
    "    try:\n",
    "        df2 = pd.read_csv(controller_log+'rl-LateralPositionControlState.txt')\n",
    "    except:\n",
    "        df2 = pd.read_csv(controller_log+'rl-LateralPositionControlState-last.txt')\n",
    "    if df2.shape[0]>=1:\n",
    "        df2.to_csv(controller_log+'rl-LateralPositionControlState-last.txt')\n",
    "        df2 = df2.iloc[0,:]\n",
    "    else:\n",
    "        df2 = pd.read_csv(controller_log+'rl-LateralPositionControlState-last.txt')\n",
    "        df2 = df2.iloc[0,:]\n",
    "        \n",
    "    #Altitude\n",
    "    try:\n",
    "        df3 = pd.read_csv(controller_log+'rl-AltitudeControlState.txt')\n",
    "    except:\n",
    "        df3 = pd.read_csv(controller_log+'rl-AltitudeControlState-last.txt')\n",
    "    if df3.shape[0]>=1:\n",
    "        df3.to_csv(controller_log+'rl-AltitudeControlState-last.txt')\n",
    "        df3 = df3.iloc[0,:]\n",
    "    else:\n",
    "        df3 = pd.read_csv(controller_log+'rl-AltitudeControlState-last.txt')\n",
    "        df3 = df3.iloc[0,:]\n",
    "\n",
    "#     #Yaw\n",
    "#     try:\n",
    "#         df4 = pd.read_csv(controller_log+'rl-YawControlState.txt')\n",
    "#     except:\n",
    "#         df4 = pd.read_csv(controller_log+'rl-YawControlState-last.txt')\n",
    "#     if df4.shape[0]>=1:\n",
    "#         df4.to_csv(controller_log+'rl-YawControlState-last.txt')\n",
    "#         df4 = df4.iloc[0,:]\n",
    "#     else:\n",
    "#         df4 = pd.read_csv(controller_log+'rl-YawControlState-last.txt')\n",
    "#         df4 = df4.iloc[0,:]\n",
    "\n",
    "    try:\n",
    "        df5 = pd.read_csv(controller_log+'rl-BodyRateControlState.txt')\n",
    "    except:\n",
    "        df5 = pd.read_csv(controller_log+'rl-BodyRateControlState-last.txt')\n",
    "    if df5.shape[0]>=1:\n",
    "        df5.to_csv(controller_log+'rl-BodyRateControlState-last.txt')\n",
    "        df5 = df5.iloc[0,:]\n",
    "    else:\n",
    "        df5 = pd.read_csv(controller_log+'rl-BodyRateControlState-last.txt')\n",
    "        df5 = df5.iloc[0,:]\n",
    "\n",
    "    quad_obs = np.array([ \\\n",
    "                    df1[3]-1, \\\n",
    "                    df1[7]-1, \\\n",
    "                    df1[11]-1, \\\n",
    "                    df5[3], \\\n",
    "                    df5[4], \\\n",
    "                    df5[5], \\\n",
    "                ])\n",
    "\n",
    "    quad_cost = np.sqrt(\\\n",
    "                    0*(df1[3]-1)**2 + \\\n",
    "                    0*(df1[7]-1)**2 + \\\n",
    "                    0*(df1[11]-1)**2 + \\\n",
    "                    df5[3]**2 + \\\n",
    "                    df5[4]**2 + \\\n",
    "                    df5[5]**2 \\\n",
    "                )\n",
    "    \n",
    "    quad_done = df3[2]>-0.1 #df3[2] is z\n",
    "    \n",
    "    quad_dfo = np.sqrt( \\\n",
    "                    (df2[0]-df2[2])**2 + \\\n",
    "                    (df2[4]-df2[6])**2 + \\\n",
    "                    (df3[0]-df3[2])**2\n",
    "                )\n",
    "\n",
    "    quad_rewards = -1*quad_cost\n",
    "\n",
    "    return quad_obs, quad_rewards, quad_done, quad_dfo, df3[2]"
   ]
  },
  {
   "cell_type": "code",
   "execution_count": 11,
   "metadata": {},
   "outputs": [
    {
     "name": "stdout",
     "output_type": "stream",
     "text": [
      "{0: array([1.18, 1.18, 1.18, 1.18]), 1: array([11.8, 11.8,  0. ,  0. ]), 2: array([ 0. ,  0. , 11.8, 11.8]), 3: array([11.8,  0. , 11.8,  0. ]), 4: array([ 0. , 11.8,  0. , 11.8]), 5: array([11.8,  0. ,  0. , 11.8]), 6: array([ 0. , 11.8, 11.8,  0. ]), 7: [0, 0, 0, 0]}\n"
     ]
    }
   ],
   "source": [
    "mt = 1.18\n",
    "mt_ = np.array([mt,mt,mt,mt])\n",
    "\n",
    "controller_log = 'FCND-Controls-CPP-reinforcement-learning/config/log/'\n",
    "np.savetxt(controller_log+'rl-commanded-rotor-speeds.txt', \n",
    "           np.reshape(mt_,[1,4]\n",
    "                     ), delimiter=\",\")\n",
    "\n",
    "action_val_dic = {\n",
    "    0:np.array(mt_),\n",
    "    1:np.array(mt_),\n",
    "    2:np.array(mt_),\n",
    "    3:np.array(mt_),\n",
    "    4:np.array(mt_),\n",
    "    5:np.array(mt_),\n",
    "    6:np.array(mt_),\n",
    "    7:[0,0,0,0]}\n",
    "\n",
    "MaxT = 10#2\n",
    "MinT = 0#0.8\n",
    "\n",
    "i=1\n",
    "action_val_dic[i][0] = action_val_dic[i][0]*MaxT\n",
    "action_val_dic[i][1] = action_val_dic[i][1]*MaxT\n",
    "action_val_dic[i][2] = action_val_dic[i][2]*MinT\n",
    "action_val_dic[i][3] = action_val_dic[i][3]*MinT\n",
    "\n",
    "i=2\n",
    "action_val_dic[i][0] = action_val_dic[i][0]*MinT\n",
    "action_val_dic[i][1] = action_val_dic[i][1]*MinT\n",
    "action_val_dic[i][2] = action_val_dic[i][2]*MaxT\n",
    "action_val_dic[i][3] = action_val_dic[i][3]*MaxT\n",
    "\n",
    "i=3\n",
    "action_val_dic[i][0] = action_val_dic[i][0]*MaxT\n",
    "action_val_dic[i][1] = action_val_dic[i][1]*MinT\n",
    "action_val_dic[i][2] = action_val_dic[i][2]*MaxT\n",
    "action_val_dic[i][3] = action_val_dic[i][3]*MinT\n",
    "\n",
    "i=4\n",
    "action_val_dic[i][0] = action_val_dic[i][0]*MinT\n",
    "action_val_dic[i][1] = action_val_dic[i][1]*MaxT\n",
    "action_val_dic[i][2] = action_val_dic[i][2]*MinT\n",
    "action_val_dic[i][3] = action_val_dic[i][3]*MaxT\n",
    "\n",
    "i=5\n",
    "action_val_dic[i][0] = action_val_dic[i][0]*MaxT\n",
    "action_val_dic[i][1] = action_val_dic[i][1]*MinT\n",
    "action_val_dic[i][2] = action_val_dic[i][2]*MinT\n",
    "action_val_dic[i][3] = action_val_dic[i][3]*MaxT\n",
    "\n",
    "i=6\n",
    "action_val_dic[i][0] = action_val_dic[i][0]*MinT\n",
    "action_val_dic[i][1] = action_val_dic[i][1]*MaxT\n",
    "action_val_dic[i][2] = action_val_dic[i][2]*MaxT\n",
    "action_val_dic[i][3] = action_val_dic[i][3]*MinT\n",
    "\n",
    "print(action_val_dic)"
   ]
  },
  {
   "cell_type": "code",
   "execution_count": 12,
   "metadata": {},
   "outputs": [],
   "source": [
    "#speed\n",
    "if False:\n",
    "    check = 0 # if too fast, will be different from 0\n",
    "    avcheck = 0\n",
    "    for k in range(1000):\n",
    "        for i in range(4):\n",
    "            avcheck += check\n",
    "            print('\\rIteration {} {} {} {}'.format(k,i,avcheck,check),end=\"\")\n",
    "            np.savetxt(controller_log+'rl-commanded-rotor-speeds.txt', \n",
    "                   np.reshape(action_val_dic[i],[1,4]\n",
    "                             ), delimiter=\",\")\n",
    "            time.sleep(0.2)\n",
    "            check = 0\n",
    "            try:\n",
    "                df = pd.read_csv(controller_log+'rl-commanded-rotor-speeds-check.txt')\n",
    "                df = df.iloc[0,:]\n",
    "                for u in range(4):\n",
    "                    check += (df[u]-action_val_dic[i][u])**2\n",
    "                    check = round(check,1)\n",
    "            except:\n",
    "                check = 999"
   ]
  },
  {
   "cell_type": "code",
   "execution_count": 13,
   "metadata": {},
   "outputs": [
    {
     "name": "stdout",
     "output_type": "stream",
     "text": [
      "rm: ./saved_model/my_policy_net*: No such file or directory\n",
      "Iteration: 0, Game:49, step:0    \n",
      "MeanGradients: 0.3499999940395355, MeanReward -21.79\n",
      "\n",
      "Iteration: 1, Game:49, step:0    \n",
      "MeanGradients: 0.36000001430511475, MeanReward -21.84\n",
      "\n",
      "Iteration: 2, Game:49, step:0    \n",
      "MeanGradients: 0.3400000035762787, MeanReward -21.42\n",
      "\n",
      "Iteration: 3, Game:49, step:0    \n",
      "MeanGradients: 0.3199999928474426, MeanReward -20.64\n",
      "\n",
      "Iteration: 4, Game:49, step:0    \n",
      "MeanGradients: 0.3400000035762787, MeanReward -21.47\n",
      "\n",
      "Iteration: 5, Game:49, step:0    \n",
      "MeanGradients: 0.3400000035762787, MeanReward -19.24\n",
      "\n",
      "Iteration: 6, Game:49, step:0    \n",
      "MeanGradients: 0.36000001430511475, MeanReward -21.21\n",
      "\n",
      "Iteration: 7, Game:49, step:0    \n",
      "MeanGradients: 0.36000001430511475, MeanReward -22.15\n",
      "\n",
      "Iteration: 8, Game:16, step:0    "
     ]
    },
    {
     "ename": "KeyboardInterrupt",
     "evalue": "",
     "output_type": "error",
     "traceback": [
      "\u001b[0;31m---------------------------------------------------------------------------\u001b[0m",
      "\u001b[0;31mKeyboardInterrupt\u001b[0m                         Traceback (most recent call last)",
      "\u001b[0;32m<ipython-input-13-4e8b76c436b3>\u001b[0m in \u001b[0;36m<module>\u001b[0;34m()\u001b[0m\n\u001b[1;32m     43\u001b[0m                            delimiter=\",\")\n\u001b[1;32m     44\u001b[0m \u001b[0;31m#                           np.reshape([1.2,1.2,1.2,1.2],[1,4]), delimiter=\",\")\u001b[0m\u001b[0;34m\u001b[0m\u001b[0;34m\u001b[0m\u001b[0m\n\u001b[0;32m---> 45\u001b[0;31m                 \u001b[0mtime\u001b[0m\u001b[0;34m.\u001b[0m\u001b[0msleep\u001b[0m\u001b[0;34m(\u001b[0m\u001b[0mlag\u001b[0m\u001b[0;34m)\u001b[0m\u001b[0;34m\u001b[0m\u001b[0m\n\u001b[0m\u001b[1;32m     46\u001b[0m                 \u001b[0mobs\u001b[0m\u001b[0;34m,\u001b[0m \u001b[0mreward\u001b[0m\u001b[0;34m,\u001b[0m \u001b[0mdone\u001b[0m\u001b[0;34m,\u001b[0m \u001b[0m_\u001b[0m \u001b[0;34m,\u001b[0m \u001b[0mz\u001b[0m \u001b[0;34m=\u001b[0m \u001b[0mquad\u001b[0m\u001b[0;34m(\u001b[0m\u001b[0mcontroller_log\u001b[0m\u001b[0;34m)\u001b[0m\u001b[0;34m\u001b[0m\u001b[0m\n\u001b[1;32m     47\u001b[0m                 \u001b[0;31m#print('quad update b', z, reward, done)\u001b[0m\u001b[0;34m\u001b[0m\u001b[0;34m\u001b[0m\u001b[0m\n",
      "\u001b[0;31mKeyboardInterrupt\u001b[0m: "
     ]
    }
   ],
   "source": [
    "#este no\n",
    "!rm ./saved_model/my_policy_net*\n",
    "\n",
    "n_iterations = 100#250\n",
    "n_games_per_update = 50\n",
    "n_max_steps = 1#1000\n",
    "save_iterations = 1#10\n",
    "discount_rate = 0.8#0.95\n",
    "lag = 1.5#0.25\n",
    "best_reward = - 999\n",
    "\n",
    "with tf.Session() as sess:\n",
    "    init.run()\n",
    "    for iteration in range(n_iterations):\n",
    "        #print(\"\\rIteration: {}\".format(iteration), end=\"\")\n",
    "        all_rewards_ = []\n",
    "        all_gradients = []\n",
    "        for game in range(n_games_per_update):\n",
    "            #reset thrust\n",
    "            np.savetxt(controller_log+'rl-commanded-rotor-speeds.txt', \n",
    "                       np.reshape(mt_,[1,4]), delimiter=\",\")\n",
    "\n",
    "            current_rewards = []\n",
    "            current_gradients = []\n",
    "\n",
    "            #wait until drone in original position\n",
    "            dfo = 10\n",
    "            while dfo > .005:#0.01\n",
    "                try:\n",
    "                    obs, _ , _ , dfo, z = quad(controller_log)\n",
    "                    #print(\"\\rWait for it {}\".format(dfo), end=\"\")\n",
    "                except:\n",
    "                    continue#break\n",
    "\n",
    "            #ok, drone is in original position\n",
    "            #print('\\nok, drone is in original position')\n",
    "            for step in range(n_max_steps):\n",
    "                print(\"\\rIteration: {}, Game:{}, step:{}\".format(iteration, game, step), end=\"    \")\n",
    "                action_val, gradients_val, y_val = sess.run([action, gradients, y], feed_dict={X: obs.reshape(1, n_inputs)})\n",
    "                #print('quad update a', y_val, action_val[0])\n",
    "                np.savetxt(controller_log+'rl-commanded-rotor-speeds.txt', \n",
    "                           np.reshape(action_val_dic[action_val[0][0]],[1,4]), \n",
    "                           delimiter=\",\")\n",
    "#                           np.reshape([1.2,1.2,1.2,1.2],[1,4]), delimiter=\",\")\n",
    "                time.sleep(lag)\n",
    "                obs, reward, done, _ , z = quad(controller_log)\n",
    "                #print('quad update b', z, reward, done)\n",
    "                #print('quad update c', gradients_val)\n",
    "                current_rewards.append(reward)\n",
    "                current_gradients.append(gradients_val)\n",
    "                if done:\n",
    "                    break\n",
    "            #print('quad update b', z, reward, done)\n",
    "            #print(\"current_rewards: {}\".format(current_rewards))\n",
    "            if len(current_rewards)>0:\n",
    "                all_rewards_.append(current_rewards)\n",
    "                all_gradients.append(current_gradients)\n",
    "\n",
    "        all_rewards = discount_and_normalize_rewards(all_rewards_, discount_rate=discount_rate)\n",
    "        #print(\"all_rewards: {}\".format(all_rewards))\n",
    "        \n",
    "        feed_dict = {}\n",
    "        for var_index, gradient_placeholder in enumerate(gradient_placeholders):\n",
    "            mean_gradients = np.mean([reward * all_gradients[game_index][step][var_index]\n",
    "                                      for game_index, rewards in enumerate(all_rewards)\n",
    "                                          for step, reward in enumerate(rewards)], axis=0)\n",
    "            feed_dict[gradient_placeholder] = mean_gradients\n",
    "        sess.run(training_op, feed_dict=feed_dict)\n",
    "        if iteration % save_iterations == 0:\n",
    "            mean_gradie = np.sqrt(np.sum(np.abs(mean_gradients)**2))\n",
    "            mean_reward = np.mean(np.mean( [item for sublist in all_rewards_ for item in sublist] ))\n",
    "            print(\"\\nMeanGradients: {}, MeanReward {}\".format( \\\n",
    "                    round(mean_gradie,2), \\\n",
    "                    round(mean_reward,2) \\\n",
    "                    ), end=\"\")\n",
    "            print(\"\\n\")\n",
    "            if best_reward < mean_reward:\n",
    "                best_reward = mean_reward\n",
    "                saver.save(sess, \"./saved_model/my_policy_net_pg.ckpt\")"
   ]
  },
  {
   "cell_type": "code",
   "execution_count": null,
   "metadata": {},
   "outputs": [],
   "source": [
    "todavia no\n",
    "#reset thrust\n",
    "lag = 0.25\n",
    "\n",
    "np.savetxt(controller_log+'rl-commanded-rotor-speeds.txt', \n",
    "                       np.reshape(mt_,[1,4]), delimiter=\",\")\n",
    "with tf.Session() as sess:\n",
    "    saver.restore(sess, \"./saved_model/my_policy_net_pg.ckpt\")\n",
    "    obs, reward, done, _ , z = quad(controller_log)\n",
    "    for step in range(1000):\n",
    "        print(\"\\rstep:{}\".format(step), end=\"    \")\n",
    "        \n",
    "        action_val = action.eval(feed_dict={X: obs.reshape(1, n_inputs)})\n",
    "        np.savetxt(controller_log+'rl-commanded-rotor-speeds.txt', \n",
    "            np.reshape(action_val_dic[action_val[0][0]],[1,4]), \n",
    "            delimiter=\",\")\n",
    "        time.sleep(0.25)\n",
    "        obs, reward, done, _ , z = quad(controller_log)\n",
    "\n",
    "        #if done:\n",
    "        #    break\n"
   ]
  },
  {
   "cell_type": "code",
   "execution_count": null,
   "metadata": {},
   "outputs": [],
   "source": []
  },
  {
   "cell_type": "markdown",
   "metadata": {},
   "source": [
    "# Markov Chains"
   ]
  },
  {
   "cell_type": "code",
   "execution_count": null,
   "metadata": {},
   "outputs": [],
   "source": []
  },
  {
   "cell_type": "markdown",
   "metadata": {},
   "source": [
    "# Markov Decision Process"
   ]
  },
  {
   "cell_type": "code",
   "execution_count": null,
   "metadata": {},
   "outputs": [],
   "source": []
  },
  {
   "cell_type": "markdown",
   "metadata": {},
   "source": [
    "# Q-Learning"
   ]
  },
  {
   "cell_type": "markdown",
   "metadata": {},
   "source": [
    "Q-Learning will learn the optimal policy by watching the random policy play."
   ]
  },
  {
   "cell_type": "code",
   "execution_count": null,
   "metadata": {},
   "outputs": [],
   "source": []
  },
  {
   "cell_type": "code",
   "execution_count": null,
   "metadata": {},
   "outputs": [],
   "source": []
  },
  {
   "cell_type": "code",
   "execution_count": null,
   "metadata": {},
   "outputs": [],
   "source": []
  },
  {
   "cell_type": "code",
   "execution_count": null,
   "metadata": {},
   "outputs": [],
   "source": []
  },
  {
   "cell_type": "markdown",
   "metadata": {},
   "source": [
    "# Learning to play MsPacman using Deep Q-Learning"
   ]
  },
  {
   "cell_type": "code",
   "execution_count": null,
   "metadata": {},
   "outputs": [],
   "source": []
  },
  {
   "cell_type": "code",
   "execution_count": null,
   "metadata": {},
   "outputs": [],
   "source": []
  },
  {
   "cell_type": "code",
   "execution_count": null,
   "metadata": {},
   "outputs": [],
   "source": []
  },
  {
   "cell_type": "markdown",
   "metadata": {},
   "source": [
    "## Preprocessing"
   ]
  },
  {
   "cell_type": "markdown",
   "metadata": {},
   "source": [
    "Preprocessing the images is optional but greatly speeds up training."
   ]
  },
  {
   "cell_type": "code",
   "execution_count": null,
   "metadata": {},
   "outputs": [],
   "source": []
  },
  {
   "cell_type": "code",
   "execution_count": null,
   "metadata": {},
   "outputs": [],
   "source": []
  },
  {
   "cell_type": "markdown",
   "metadata": {},
   "source": [
    "## Build DQN"
   ]
  },
  {
   "cell_type": "markdown",
   "metadata": {},
   "source": [
    "Note: instead of using `tf.contrib.layers.convolution2d()` or `tf.contrib.layers.conv2d()` (as in the book), we now use the `tf.layers.conv2d()`, which did not exist when this chapter was written. This is preferable because anything in contrib may change or be deleted without notice, while `tf.layers` is part of the official API. As you will see, the code is mostly the same, except that the parameter names have changed slightly:\n",
    "* the `num_outputs` parameter was renamed to `filters`,\n",
    "* the `stride` parameter was renamed to `strides`,\n",
    "* the `_fn` suffix was removed from parameter names that had it (e.g., `activation_fn` was renamed to `activation`),\n",
    "* the `weights_initializer` parameter was renamed to `kernel_initializer`,\n",
    "* the weights variable was renamed to `\"kernel\"` (instead of `\"weights\"`), and the biases variable was renamed from `\"biases\"` to `\"bias\"`,\n",
    "* and the default `activation` is now `None` instead of `tf.nn.relu`."
   ]
  },
  {
   "cell_type": "code",
   "execution_count": null,
   "metadata": {},
   "outputs": [],
   "source": []
  },
  {
   "cell_type": "code",
   "execution_count": null,
   "metadata": {},
   "outputs": [],
   "source": []
  },
  {
   "cell_type": "code",
   "execution_count": null,
   "metadata": {},
   "outputs": [],
   "source": []
  },
  {
   "cell_type": "code",
   "execution_count": null,
   "metadata": {},
   "outputs": [],
   "source": []
  },
  {
   "cell_type": "code",
   "execution_count": null,
   "metadata": {},
   "outputs": [],
   "source": []
  },
  {
   "cell_type": "markdown",
   "metadata": {},
   "source": [
    "# Exercise solutions"
   ]
  },
  {
   "cell_type": "markdown",
   "metadata": {},
   "source": [
    "Coming soon..."
   ]
  }
 ],
 "metadata": {
  "kernelspec": {
   "display_name": "Python 3",
   "language": "python",
   "name": "python3"
  },
  "language_info": {
   "codemirror_mode": {
    "name": "ipython",
    "version": 3
   },
   "file_extension": ".py",
   "mimetype": "text/x-python",
   "name": "python",
   "nbconvert_exporter": "python",
   "pygments_lexer": "ipython3",
   "version": "3.6.3"
  },
  "nav_menu": {},
  "toc": {
   "navigate_menu": true,
   "number_sections": true,
   "sideBar": true,
   "threshold": 6,
   "toc_cell": false,
   "toc_section_display": "block",
   "toc_window_display": false
  }
 },
 "nbformat": 4,
 "nbformat_minor": 1
}
